{
 "cells": [
  {
   "cell_type": "code",
   "execution_count": 18,
   "metadata": {},
   "outputs": [
    {
     "name": "stdout",
     "output_type": "stream",
     "text": [
      "Populating the interactive namespace from numpy and matplotlib\n"
     ]
    }
   ],
   "source": [
    "%pylab inline\n",
    "%config InlineBackend.figure_format ='retina'\n",
    "import time\n",
    "\n",
    "import pandas as pd\n",
    "import anndata\n",
    "\n",
    "import torch\n",
    "\n",
    "from scvi.dataset import GeneExpressionDataset\n",
    "from scvi.models import VAE, LDVAE\n",
    "from scvi.inference import UnsupervisedTrainer\n",
    "from scvi.inference.posterior import Posterior"
   ]
  },
  {
   "cell_type": "code",
   "execution_count": 2,
   "metadata": {},
   "outputs": [],
   "source": [
    "adata = anndata.read('cao_atlas.h5ad')"
   ]
  },
  {
   "cell_type": "code",
   "execution_count": 4,
   "metadata": {},
   "outputs": [],
   "source": [
    "idx = adata.obs.query('detected_doublet == \"False\"').index\n",
    "adata = adata[idx]"
   ]
  },
  {
   "cell_type": "code",
   "execution_count": 5,
   "metadata": {},
   "outputs": [],
   "source": [
    "X, local_means, local_vars, batch_indices, labels = \\\n",
    "GeneExpressionDataset.get_attributes_from_matrix(adata.X)"
   ]
  },
  {
   "cell_type": "code",
   "execution_count": 6,
   "metadata": {},
   "outputs": [],
   "source": [
    "cells_dataset = \\\n",
    "GeneExpressionDataset(X, local_means, local_vars, batch_indices, labels,\n",
    "                      gene_names=np.array(adata.var.index.values, dtype=str))"
   ]
  },
  {
   "cell_type": "code",
   "execution_count": 7,
   "metadata": {},
   "outputs": [
    {
     "name": "stdout",
     "output_type": "stream",
     "text": [
      "Downsampling from 26183 to 1000 genes\n",
      "Downsampling from 1949131 to 1949131 cells\n"
     ]
    }
   ],
   "source": [
    "cells_dataset.subsample_genes(1000)"
   ]
  },
  {
   "cell_type": "code",
   "execution_count": 13,
   "metadata": {},
   "outputs": [],
   "source": [
    "vae = VAE(cells_dataset.nb_genes, reconstruction_loss='nb')"
   ]
  },
  {
   "cell_type": "code",
   "execution_count": 14,
   "metadata": {},
   "outputs": [],
   "source": [
    "trainer = UnsupervisedTrainer(vae, cells_dataset, use_cuda=True, frequency=1)"
   ]
  },
  {
   "cell_type": "code",
   "execution_count": 15,
   "metadata": {},
   "outputs": [
    {
     "name": "stdout",
     "output_type": "stream",
     "text": [
      "training: 100%|█████████████████████████████████████████████████████████████████████████| 3/3 [18:49<00:00, 376.28s/it]\n"
     ]
    }
   ],
   "source": [
    "trainer.train(n_epochs=3, )"
   ]
  },
  {
   "cell_type": "code",
   "execution_count": 16,
   "metadata": {},
   "outputs": [
    {
     "data": {
      "text/plain": [
       "[2703.8185090486486, 603.1618393949595, 602.4474014493832, 600.6084155099206]"
      ]
     },
     "execution_count": 16,
     "metadata": {},
     "output_type": "execute_result"
    }
   ],
   "source": [
    "trainer.history['ll_train_set']"
   ]
  },
  {
   "cell_type": "code",
   "execution_count": 17,
   "metadata": {},
   "outputs": [
    {
     "data": {
      "text/plain": [
       "[2702.0280159131485, 603.0747248539095, 602.3740936183711, 600.5486634235347]"
      ]
     },
     "execution_count": 17,
     "metadata": {},
     "output_type": "execute_result"
    }
   ],
   "source": [
    "trainer.history['ll_test_set']"
   ]
  },
  {
   "cell_type": "code",
   "execution_count": 21,
   "metadata": {},
   "outputs": [
    {
     "data": {
      "text/html": [
       "<div>\n",
       "<style scoped>\n",
       "    .dataframe tbody tr th:only-of-type {\n",
       "        vertical-align: middle;\n",
       "    }\n",
       "\n",
       "    .dataframe tbody tr th {\n",
       "        vertical-align: top;\n",
       "    }\n",
       "\n",
       "    .dataframe thead th {\n",
       "        text-align: right;\n",
       "    }\n",
       "</style>\n",
       "<table border=\"1\" class=\"dataframe\">\n",
       "  <thead>\n",
       "    <tr style=\"text-align: right;\">\n",
       "      <th></th>\n",
       "      <th>vae_ll_train_set</th>\n",
       "      <th>vae_ll_test_set</th>\n",
       "    </tr>\n",
       "  </thead>\n",
       "  <tbody>\n",
       "    <tr>\n",
       "      <th>0</th>\n",
       "      <td>2703.818509</td>\n",
       "      <td>2702.028016</td>\n",
       "    </tr>\n",
       "    <tr>\n",
       "      <th>1</th>\n",
       "      <td>603.161839</td>\n",
       "      <td>603.074725</td>\n",
       "    </tr>\n",
       "    <tr>\n",
       "      <th>2</th>\n",
       "      <td>602.447401</td>\n",
       "      <td>602.374094</td>\n",
       "    </tr>\n",
       "    <tr>\n",
       "      <th>3</th>\n",
       "      <td>600.608416</td>\n",
       "      <td>600.548663</td>\n",
       "    </tr>\n",
       "  </tbody>\n",
       "</table>\n",
       "</div>"
      ],
      "text/plain": [
       "   vae_ll_train_set  vae_ll_test_set\n",
       "0       2703.818509      2702.028016\n",
       "1        603.161839       603.074725\n",
       "2        602.447401       602.374094\n",
       "3        600.608416       600.548663"
      ]
     },
     "execution_count": 21,
     "metadata": {},
     "output_type": "execute_result"
    }
   ],
   "source": [
    "hist_df = \\\n",
    "pd.DataFrame({'vae_ll_train_set': trainer.history['ll_train_set'],\n",
    "              'vae_ll_test_set': trainer.history['ll_test_set']})\n",
    "\n",
    "hist_df"
   ]
  },
  {
   "cell_type": "code",
   "execution_count": 22,
   "metadata": {},
   "outputs": [],
   "source": [
    "ldvae = LDVAE(cells_dataset.nb_genes, reconstruction_loss='nb')"
   ]
  },
  {
   "cell_type": "code",
   "execution_count": 23,
   "metadata": {},
   "outputs": [],
   "source": [
    "trainer = UnsupervisedTrainer(ldvae, cells_dataset, use_cuda=True, frequency=1)"
   ]
  },
  {
   "cell_type": "code",
   "execution_count": 24,
   "metadata": {},
   "outputs": [
    {
     "name": "stdout",
     "output_type": "stream",
     "text": [
      "training: 100%|█████████████████████████████████████████████████████████████████████████| 3/3 [17:33<00:00, 352.50s/it]\n"
     ]
    }
   ],
   "source": [
    "trainer.train(n_epochs=3, )"
   ]
  },
  {
   "cell_type": "code",
   "execution_count": 25,
   "metadata": {},
   "outputs": [
    {
     "data": {
      "text/plain": [
       "[2679.306746674418, 611.5832323827825, 611.2913683851434, 611.4970870630121]"
      ]
     },
     "execution_count": 25,
     "metadata": {},
     "output_type": "execute_result"
    }
   ],
   "source": [
    "trainer.history['ll_train_set']"
   ]
  },
  {
   "cell_type": "code",
   "execution_count": 26,
   "metadata": {},
   "outputs": [
    {
     "data": {
      "text/plain": [
       "[2677.9429170664166, 611.4190416718506, 611.1215942925484, 611.3273155564038]"
      ]
     },
     "execution_count": 26,
     "metadata": {},
     "output_type": "execute_result"
    }
   ],
   "source": [
    "trainer.history['ll_test_set']"
   ]
  },
  {
   "cell_type": "code",
   "execution_count": 27,
   "metadata": {},
   "outputs": [],
   "source": [
    "hist_df['ldvae_ll_train_set'] = trainer.history['ll_train_set']\n",
    "hist_df['ldvae_ll_test_set'] = trainer.history['ll_test_set']"
   ]
  },
  {
   "cell_type": "code",
   "execution_count": 28,
   "metadata": {},
   "outputs": [
    {
     "data": {
      "text/html": [
       "<div>\n",
       "<style scoped>\n",
       "    .dataframe tbody tr th:only-of-type {\n",
       "        vertical-align: middle;\n",
       "    }\n",
       "\n",
       "    .dataframe tbody tr th {\n",
       "        vertical-align: top;\n",
       "    }\n",
       "\n",
       "    .dataframe thead th {\n",
       "        text-align: right;\n",
       "    }\n",
       "</style>\n",
       "<table border=\"1\" class=\"dataframe\">\n",
       "  <thead>\n",
       "    <tr style=\"text-align: right;\">\n",
       "      <th></th>\n",
       "      <th>vae_ll_train_set</th>\n",
       "      <th>vae_ll_test_set</th>\n",
       "      <th>ldvae_ll_train_set</th>\n",
       "      <th>ldvae_ll_test_set</th>\n",
       "    </tr>\n",
       "  </thead>\n",
       "  <tbody>\n",
       "    <tr>\n",
       "      <th>0</th>\n",
       "      <td>2703.818509</td>\n",
       "      <td>2702.028016</td>\n",
       "      <td>2679.306747</td>\n",
       "      <td>2677.942917</td>\n",
       "    </tr>\n",
       "    <tr>\n",
       "      <th>1</th>\n",
       "      <td>603.161839</td>\n",
       "      <td>603.074725</td>\n",
       "      <td>611.583232</td>\n",
       "      <td>611.419042</td>\n",
       "    </tr>\n",
       "    <tr>\n",
       "      <th>2</th>\n",
       "      <td>602.447401</td>\n",
       "      <td>602.374094</td>\n",
       "      <td>611.291368</td>\n",
       "      <td>611.121594</td>\n",
       "    </tr>\n",
       "    <tr>\n",
       "      <th>3</th>\n",
       "      <td>600.608416</td>\n",
       "      <td>600.548663</td>\n",
       "      <td>611.497087</td>\n",
       "      <td>611.327316</td>\n",
       "    </tr>\n",
       "  </tbody>\n",
       "</table>\n",
       "</div>"
      ],
      "text/plain": [
       "   vae_ll_train_set  vae_ll_test_set  ldvae_ll_train_set  ldvae_ll_test_set\n",
       "0       2703.818509      2702.028016         2679.306747        2677.942917\n",
       "1        603.161839       603.074725          611.583232         611.419042\n",
       "2        602.447401       602.374094          611.291368         611.121594\n",
       "3        600.608416       600.548663          611.497087         611.327316"
      ]
     },
     "execution_count": 28,
     "metadata": {},
     "output_type": "execute_result"
    }
   ],
   "source": [
    "hist_df"
   ]
  },
  {
   "cell_type": "code",
   "execution_count": 29,
   "metadata": {},
   "outputs": [],
   "source": [
    "hist_df.to_csv('cao_full_training_hist.csv')"
   ]
  },
  {
   "cell_type": "code",
   "execution_count": null,
   "metadata": {},
   "outputs": [],
   "source": []
  },
  {
   "cell_type": "code",
   "execution_count": null,
   "metadata": {},
   "outputs": [],
   "source": []
  },
  {
   "cell_type": "code",
   "execution_count": null,
   "metadata": {},
   "outputs": [],
   "source": []
  },
  {
   "cell_type": "code",
   "execution_count": null,
   "metadata": {},
   "outputs": [],
   "source": []
  }
 ],
 "metadata": {
  "kernelspec": {
   "display_name": "Python 3",
   "language": "python",
   "name": "python3"
  },
  "language_info": {
   "codemirror_mode": {
    "name": "ipython",
    "version": 3
   },
   "file_extension": ".py",
   "mimetype": "text/x-python",
   "name": "python",
   "nbconvert_exporter": "python",
   "pygments_lexer": "ipython3",
   "version": "3.6.6"
  }
 },
 "nbformat": 4,
 "nbformat_minor": 2
}
